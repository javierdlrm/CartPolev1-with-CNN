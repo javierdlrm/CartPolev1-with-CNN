{
  "nbformat": 4,
  "nbformat_minor": 0,
  "metadata": {
    "kernelspec": {
      "name": "python3",
      "display_name": "Python 3"
    },
    "language_info": {
      "codemirror_mode": {
        "name": "ipython",
        "version": 3
      },
      "file_extension": ".py",
      "mimetype": "text/x-python",
      "name": "python",
      "nbconvert_exporter": "python",
      "pygments_lexer": "ipython3",
      "version": "3.6.8"
    },
    "colab": {
      "name": "1.2_dqn_screen-Copy1.ipynb",
      "provenance": [],
      "collapsed_sections": [],
      "toc_visible": true
    },
    "accelerator": "GPU"
  },
  "cells": [
    {
      "cell_type": "markdown",
      "metadata": {
        "id": "lHbXuP825W1W",
        "colab_type": "text"
      },
      "source": [
        "## Install packages and dependencies\n"
      ]
    },
    {
      "cell_type": "code",
      "metadata": {
        "id": "5ihI1sVW3B-_",
        "colab_type": "code",
        "colab": {}
      },
      "source": [
        "#remove \" > /dev/null 2>&1\" to see what is going on under the hood\n",
        "!pip install gym pyvirtualdisplay > /dev/null 2>&1\n",
        "!apt-get install -y xvfb python-opengl ffmpeg > /dev/null 2>&1"
      ],
      "execution_count": 0,
      "outputs": []
    },
    {
      "cell_type": "code",
      "metadata": {
        "id": "9LVytm8w3E-s",
        "colab_type": "code",
        "outputId": "35f8014d-4c68-4e7a-9e84-74fbaf2c5ffb",
        "colab": {
          "base_uri": "https://localhost:8080/",
          "height": 34
        }
      },
      "source": [
        "!apt-get update > /dev/null 2>&1\n",
        "!apt-get install cmake > /dev/null 2>&1\n",
        "!pip install --upgrade setuptools 2>&1\n",
        "!pip install ez_setup > /dev/null 2>&1\n",
        "!pip install gym[atari] > /dev/null 2>&1"
      ],
      "execution_count": 2,
      "outputs": [
        {
          "output_type": "stream",
          "text": [
            "Requirement already up-to-date: setuptools in /usr/local/lib/python3.6/dist-packages (45.0.0)\n"
          ],
          "name": "stdout"
        }
      ]
    },
    {
      "cell_type": "markdown",
      "metadata": {
        "id": "B7Jgv_Iv5hQN",
        "colab_type": "text"
      },
      "source": [
        "## Import packages"
      ]
    },
    {
      "cell_type": "code",
      "metadata": {
        "id": "08LF5eDq3KI6",
        "colab_type": "code",
        "colab": {}
      },
      "source": [
        "import gym\n",
        "from gym import logger as gymlogger\n",
        "from gym.wrappers import Monitor\n",
        "gymlogger.set_level(40) #error only\n",
        "\n",
        "import os\n",
        "import numpy as np\n",
        "import random\n",
        "import matplotlib\n",
        "import matplotlib.pyplot as plt\n",
        "%matplotlib inline\n",
        "import math\n",
        "import glob\n",
        "import io\n",
        "import base64\n",
        "from collections import deque\n",
        "from IPython.display import HTML\n",
        "from IPython import display as ipythondisplay\n",
        "from PIL import Image\n",
        "from itertools import count\n",
        "from collections import namedtuple\n",
        "import PIL"
      ],
      "execution_count": 0,
      "outputs": []
    },
    {
      "cell_type": "code",
      "metadata": {
        "id": "22TmmGcZ27Em",
        "colab_type": "code",
        "outputId": "8f79c42e-3b46-42b7-c23e-b1c7a596cbf0",
        "colab": {
          "base_uri": "https://localhost:8080/",
          "height": 34
        }
      },
      "source": [
        "import torch\n",
        "import torch.nn as nn\n",
        "import torch.optim as optim\n",
        "import torch.nn.functional as F\n",
        "import torchvision.transforms as T\n",
        "from torchvision.transforms import Compose, ToPILImage, Resize, ToTensor, Grayscale\n",
        "\n",
        "print(torch.__version__)"
      ],
      "execution_count": 4,
      "outputs": [
        {
          "output_type": "stream",
          "text": [
            "1.3.1\n"
          ],
          "name": "stdout"
        }
      ]
    },
    {
      "cell_type": "code",
      "metadata": {
        "id": "V_BySYsHxA1i",
        "colab_type": "code",
        "colab": {}
      },
      "source": [
        "# cuda availability\n",
        "use_cuda = torch.cuda.is_available()\n",
        "device = torch.device(\"cuda\" if use_cuda else \"cpu\")\n",
        "\n",
        "FloatTensor = torch.cuda.FloatTensor if use_cuda else torch.FloatTensor\n",
        "LongTensor = torch.cuda.LongTensor if use_cuda else torch.LongTensor\n",
        "ByteTensor = torch.cuda.ByteTensor if use_cuda else torch.ByteTensor\n",
        "Tensor = FloatTensor"
      ],
      "execution_count": 0,
      "outputs": []
    },
    {
      "cell_type": "markdown",
      "metadata": {
        "id": "zkN0qnkd5s8X",
        "colab_type": "text"
      },
      "source": [
        "## Import virtual display"
      ]
    },
    {
      "cell_type": "code",
      "metadata": {
        "id": "ardpmh4a3YxR",
        "colab_type": "code",
        "outputId": "60ffada0-ef49-423a-ffc4-88d775b26fb0",
        "colab": {
          "base_uri": "https://localhost:8080/",
          "height": 71
        }
      },
      "source": [
        "from pyvirtualdisplay import Display\n",
        "display = Display(visible=0, size=(1400, 900))\n",
        "display.start()"
      ],
      "execution_count": 6,
      "outputs": [
        {
          "output_type": "stream",
          "text": [
            "xdpyinfo was not found, X start can not be checked! Please install xdpyinfo!\n"
          ],
          "name": "stderr"
        },
        {
          "output_type": "execute_result",
          "data": {
            "text/plain": [
              "<Display cmd_param=['Xvfb', '-br', '-nolisten', 'tcp', '-screen', '0', '1400x900x24', ':1237'] cmd=['Xvfb', '-br', '-nolisten', 'tcp', '-screen', '0', '1400x900x24', ':1237'] oserror=None return_code=None stdout=\"None\" stderr=\"None\" timeout_happened=False>"
            ]
          },
          "metadata": {
            "tags": []
          },
          "execution_count": 6
        }
      ]
    },
    {
      "cell_type": "markdown",
      "metadata": {
        "id": "CneywuzO5xIk",
        "colab_type": "text"
      },
      "source": [
        "## Utils"
      ]
    },
    {
      "cell_type": "code",
      "metadata": {
        "id": "tydNUqHe3o2d",
        "colab_type": "code",
        "colab": {}
      },
      "source": [
        "\"\"\"\n",
        "Utility functions to enable video recording of gym environment and displaying it\n",
        "To enable video, just do \"env = wrap_env(env)\"\"\n",
        "\"\"\"\n",
        "\n",
        "def show_videos(indexes=None):\n",
        "  mp4list = sorted(glob.glob('video/*.mp4'), key=os.path.getsize)\n",
        "  if len(mp4list) == 0: print(\"There are no videos\")\n",
        "  for idx in (indexes or range(len(mp4list))):\n",
        "    show_video(mp4list[idx])\n",
        "\n",
        "def show_video(mp4):\n",
        "  video = io.open(mp4, 'r+b').read()\n",
        "  encoded = base64.b64encode(video)\n",
        "  video_name = mp4[mp4.rfind('/'):mp4.rfind('.')]\n",
        "  print(\"Video {} - Episode {} - Size {}\".format(video_name, video_name[mp4.rfind('o'):], len(video)))\n",
        "  ipythondisplay.display(HTML(data='''<video alt=\"test\" autoplay loop controls style=\"height: 400px;\">\n",
        "                              <source src=\"data:video/mp4;base64,{0}\" type=\"video/mp4\" />\n",
        "                              </video>'''.format(encoded.decode('ascii'))))\n",
        "\n",
        "def execute_simple_env(env):\n",
        "  observation = env.reset()\n",
        "  done = False\n",
        "  while not done:\n",
        "    # render environment\n",
        "    env.render()\n",
        "    # choose action\n",
        "    action = env.action_space.sample()\n",
        "    # take action\n",
        "    observation, reward, done, info = env.step(action)\n",
        "  env.close()\n",
        "  return env"
      ],
      "execution_count": 0,
      "outputs": []
    },
    {
      "cell_type": "markdown",
      "metadata": {
        "id": "CWp9mcPQFOVz",
        "colab_type": "text"
      },
      "source": [
        "# CartPole v1"
      ]
    },
    {
      "cell_type": "markdown",
      "metadata": {
        "id": "stAU8GyyxcGA",
        "colab_type": "text"
      },
      "source": [
        "### Environment"
      ]
    },
    {
      "cell_type": "code",
      "metadata": {
        "id": "8OG_vPVmwdEz",
        "colab_type": "code",
        "colab": {}
      },
      "source": [
        "class CartPoleEnv:\n",
        "  def __init__(self):\n",
        "    self.env = Monitor(gym.make(\"CartPole-v1\"), './video', force=True, video_callable=self.video_callable)\n",
        "\n",
        "    self.action_space = self.env.action_space\n",
        "    self.observation_space = self.env.observation_space\n",
        "    self.n_steps = 0\n",
        "    self.max_steps_per_episode = 0\n",
        "\n",
        "    print(\"[CartPole-v1]\")\n",
        "    print(\"Registry: max_episode_steps=500 - reward_threshold=475.0\")\n",
        "    print(\"Spaces: action: {} - observation: {}\", self.action_space, self.observation_space)\n",
        "\n",
        "    self.reset()\n",
        "    self.resize = T.Compose([T.ToPILImage(), T.Resize(40, interpolation=Image.CUBIC), T.ToTensor()])\n",
        "\n",
        "  def video_callable(self, episode_id):\n",
        "    if self.n_steps > self.max_steps_per_episode:\n",
        "      self.max_steps_per_episode = self.n_steps\n",
        "      return True\n",
        "    return False\n",
        "\n",
        "  def reset(self):\n",
        "    obs = self.env.reset()\n",
        "    self.n_steps = 0\n",
        "    return obs\n",
        "\n",
        "  def perform_action(self, action):\n",
        "    obs, reward, done, info = self.env.step(action)\n",
        "    reward = torch.tensor([reward], device=device)\n",
        "    self.n_steps += 1\n",
        "    return obs, reward, done, info\n",
        "\n",
        "  def close(self):\n",
        "    self.env.close()\n",
        "\n",
        "  def render(self, mode=None):\n",
        "    observation = self.env.render() if mode is None else self.env.render(mode=mode)\n",
        "    return observation\n",
        "\n",
        "  def get_observation_size(self):\n",
        "    _, _, height, weight = self.get_observation().shape\n",
        "    return (height, weight)\n",
        "\n",
        "  def get_cart_location(self, img_width):\n",
        "    world_width = self.env.x_threshold * 2\n",
        "    scale = img_width / world_width\n",
        "    return int(self.env.state[0] * scale + img_width / 2.0)\n",
        "\n",
        "  def get_observation(self):\n",
        "\n",
        "    # compute sizes\n",
        "    observation = self.render(mode='rgb_array').transpose((2, 0, 1))\n",
        "    _, height, width = observation.shape\n",
        "    observation = observation[:, int(height * 0.4) : int(height * 0.8)]\n",
        "    img_width = int(width * 0.6)\n",
        "\n",
        "    # get cart location\n",
        "    cart_location = self.get_cart_location(width)\n",
        "    if cart_location < img_width // 2:\n",
        "        slice_range = slice(img_width)\n",
        "    elif cart_location > (width - img_width // 2):\n",
        "        slice_range = slice(-img_width, None)\n",
        "    else:\n",
        "        slice_range = slice(cart_location - img_width // 2, cart_location + img_width // 2)\n",
        "    \n",
        "    # center img on the car\n",
        "    observation = observation[:, :, slice_range]\n",
        "\n",
        "    # rescale\n",
        "    observation = torch.from_numpy(np.ascontiguousarray(observation, dtype=np.float32) / 255)\n",
        "\n",
        "    # resize\n",
        "    return self.resize(observation).unsqueeze(0).to(device)"
      ],
      "execution_count": 0,
      "outputs": []
    },
    {
      "cell_type": "markdown",
      "metadata": {
        "id": "F_DSNG51-Ssf",
        "colab_type": "text"
      },
      "source": [
        "### Convolutional Neural Network"
      ]
    },
    {
      "cell_type": "code",
      "metadata": {
        "id": "FAFdQFMH-UoO",
        "colab_type": "code",
        "colab": {}
      },
      "source": [
        "class CNN(nn.Module):\n",
        "  def __init__(self, input_size, outputs, kernel_size=5, stride=2):\n",
        "\n",
        "    super(CNN, self).__init__()\n",
        "    print(\"[CNN] H: {} - W: {} - O: {}\".format(input_size[0], input_size[1], outputs))\n",
        "\n",
        "    self.kernel_size = kernel_size\n",
        "    self.stride = stride\n",
        "\n",
        "    self.conv1 = nn.Conv2d(3, 16, kernel_size=self.kernel_size, stride=self.stride)\n",
        "    conv1_size = self.conv2d_output_size(input_size)\n",
        "    self.bn1 = nn.BatchNorm2d(16)\n",
        "    self.conv2 = nn.Conv2d(16, 32, kernel_size=self.kernel_size, stride=self.stride)\n",
        "    conv2_size = self.conv2d_output_size(conv1_size)\n",
        "    self.bn2 = nn.BatchNorm2d(32)\n",
        "    self.conv3 = nn.Conv2d(32, 32, kernel_size=self.kernel_size, stride=self.stride)\n",
        "    conv3_size = self.conv2d_output_size(conv2_size)\n",
        "    self.bn3 = nn.BatchNorm2d(32)\n",
        "\n",
        "    linear_input_size = conv3_size[1] * conv3_size[0] * 32\n",
        "    self.top = nn.Linear(linear_input_size, outputs)\n",
        "\n",
        "  def conv2d_output_size(self, input_size):\n",
        "    size = lambda n, k, s: (n - (k - 1) - 1 ) // s + 1 \n",
        "    return (size(input_size[0], self.kernel_size, self.stride), size(input_size[1], self.kernel_size, self.stride))\n",
        "\n",
        "  def forward(self, x):\n",
        "    relu1 = F.relu(self.bn1(self.conv1(x)))\n",
        "    relu2 = F.relu(self.bn2(self.conv2(relu1)))\n",
        "    relu3 = F.relu(self.bn3(self.conv3(relu2)))\n",
        "    return self.top(relu3.view(relu3.size(0), -1))"
      ],
      "execution_count": 0,
      "outputs": []
    },
    {
      "cell_type": "markdown",
      "metadata": {
        "id": "pludBZw-7At2",
        "colab_type": "text"
      },
      "source": [
        "### Agent"
      ]
    },
    {
      "cell_type": "code",
      "metadata": {
        "id": "XLc08OcrGfMD",
        "colab_type": "code",
        "colab": {}
      },
      "source": [
        "Transition = namedtuple('Transition', ('prev_observation', 'action', 'observation', 'reward'))\n",
        "\n",
        "class Memory(object):\n",
        "    def __init__(self, capacity):\n",
        "        self.memory = deque(maxlen=capacity)\n",
        "\n",
        "    def remember(self, fact):\n",
        "      self.memory.append(fact)\n",
        "\n",
        "    def remind(self, batch_size):\n",
        "        return random.sample(self.memory, batch_size)\n",
        "\n",
        "    def __len__(self):\n",
        "        return len(self.memory)"
      ],
      "execution_count": 0,
      "outputs": []
    },
    {
      "cell_type": "code",
      "metadata": {
        "id": "wDr66ZPX7IUB",
        "colab_type": "code",
        "colab": {}
      },
      "source": [
        "class CNNAgent:\n",
        "  def __init__(self, environment, batch_size, epsilon=0.9, epsilon_min=0.05, epsilon_decay=200, gamma=0.999, learning_rate=0.001, kernel_size=5, stride=2):\n",
        "\n",
        "    # environment\n",
        "    self.env = environment\n",
        "\n",
        "    # memory\n",
        "    self.memory = Memory(20000)\n",
        "\n",
        "    # parameters\n",
        "    self.batch_size = batch_size\n",
        "    self.epsilon = epsilon\n",
        "    self.epsilon_min = epsilon_min\n",
        "    self.epsilon_decay = epsilon_decay\n",
        "    self.gamma = gamma\n",
        "\n",
        "    # variables\n",
        "    self.n_steps = 0\n",
        "    self.observation_size = self.env.get_observation_size()\n",
        "    self.action_space_size = self.env.action_space.n\n",
        "    self.last_observation_motive = None\n",
        "\n",
        "    # models\n",
        "    self.policy_model = CNN(self.observation_size, self.action_space_size)\n",
        "    self.policy_model.cuda()\n",
        "\n",
        "    # optimizer\n",
        "    self.optimizer = optim.RMSprop(self.policy_model.parameters(), learning_rate)\n",
        "\n",
        "    print(\"[CNNAgent] Observation_size: {} - Action_space_size: {}\".format(self.observation_size, self.action_space_size))\n",
        "\n",
        "  def act(self, action):\n",
        "    return self.env.perform_action(action)\n",
        "\n",
        "  def observe(self):\n",
        "    prev_observation_motive = self.last_observation_motive\n",
        "    self.last_observation_motive = self.env.get_observation()\n",
        "    if prev_observation_motive is None:\n",
        "      return self.last_observation_motive * 0\n",
        "    return self.last_observation_motive - prev_observation_motive\n",
        "\n",
        "  def decide(self, observation):\n",
        "    eps_threshold = self.epsilon_min + (self.epsilon - self.epsilon_min) * math.exp(-1. * self.n_steps / self.epsilon_decay)\n",
        "    self.n_steps += 1\n",
        "    if random.random() > eps_threshold:\n",
        "      with torch.no_grad():\n",
        "        return self.policy_model(observation).max(1)[1].view(1, 1)\n",
        "    else:\n",
        "      return torch.tensor([[random.randrange(self.action_space_size)]], device=device, dtype=torch.long)\n",
        "\n",
        "  def memorize(self, *args):\n",
        "    fact = Transition(*args)\n",
        "    self.memory.remember(fact)\n",
        "\n",
        "  def learn(self):\n",
        "    if len(self.memory) < self.batch_size: return\n",
        "\n",
        "    # remind sample of transitions\n",
        "    transitions = self.memory.remind(self.batch_size)\n",
        "    batch = Transition(*zip(*transitions))\n",
        "\n",
        "    # create tensors\n",
        "    prev_observations = torch.cat(batch.prev_observation)\n",
        "    actions = torch.cat(batch.action)\n",
        "    rewards = torch.cat(batch.reward)\n",
        "    observations_mask = torch.tensor(tuple(map(lambda s: s is not None, batch.observation)), device=device, dtype=torch.bool)\n",
        "    observations = torch.cat([s for s in batch.observation if s is not None])\n",
        "    \n",
        "    # hypothetical actions\n",
        "    prev_observations_action_values = self.policy_model(prev_observations).gather(1, actions)\n",
        "\n",
        "    # expected actions\n",
        "    observations_values = torch.zeros(self.batch_size, device=device)\n",
        "    observations_values[observations_mask] = self.policy_model(observations).max(1)[0].detach()\n",
        "    expected_observations_action_values = (observations_values * self.gamma) + rewards\n",
        "\n",
        "    # compute loss\n",
        "    loss = F.smooth_l1_loss(prev_observations_action_values, expected_observations_action_values.unsqueeze(1))\n",
        "\n",
        "    # optimize\n",
        "    self.optimizer.zero_grad()\n",
        "    loss.backward()\n",
        "    self.optimizer.step()"
      ],
      "execution_count": 0,
      "outputs": []
    },
    {
      "cell_type": "markdown",
      "metadata": {
        "id": "jYXyP-K0yoTB",
        "colab_type": "text"
      },
      "source": [
        "### Test"
      ]
    },
    {
      "cell_type": "code",
      "metadata": {
        "id": "uBrLNxZpbEm5",
        "colab_type": "code",
        "outputId": "fd9458b6-a2a1-4a39-eaab-856db6eb98e7",
        "colab": {
          "base_uri": "https://localhost:8080/",
          "height": 103
        }
      },
      "source": [
        "# settings\n",
        "n_episodes = 100\n",
        "batch_size = 128\n",
        "epsilon = 0.9\n",
        "epsilon_min = 0.01\n",
        "epsilon_decay = 225\n",
        "gamma = 0.999\n",
        "learning_rate = 0.0005\n",
        "kernel_size = 5\n",
        "stride = 2\n",
        "\n",
        "# create environment\n",
        "cp_env = CartPoleEnv()\n",
        "\n",
        "# create agent\n",
        "agent = CNNAgent(cp_env, batch_size, epsilon=epsilon, epsilon_min = epsilon_min, epsilon_decay=epsilon_decay,\n",
        "                 gamma=gamma, learning_rate=learning_rate, kernel_size=kernel_size, stride=stride)"
      ],
      "execution_count": 12,
      "outputs": [
        {
          "output_type": "stream",
          "text": [
            "[CartPole-v1]\n",
            "Registry: max_episode_steps=500 - reward_threshold=475.0\n",
            "Spaces: action: {} - observation: {} Discrete(2) Box(4,)\n",
            "[CNN] H: 40 - W: 90 - O: 2\n",
            "[CNNAgent] Observation_size: (40, 90) - Action_space_size: 2\n"
          ],
          "name": "stdout"
        }
      ]
    },
    {
      "cell_type": "code",
      "metadata": {
        "colab_type": "code",
        "id": "8G5tuzhdCPny",
        "colab": {
          "base_uri": "https://localhost:8080/",
          "height": 1000
        },
        "outputId": "78785664-2910-43eb-dedf-1d45c1f205c9"
      },
      "source": [
        "# game status\n",
        "last_scores, finish_game = deque(maxlen=5), False\n",
        "last_scores.extend([0]*5)\n",
        "\n",
        "# episodes\n",
        "for i in range(n_episodes):\n",
        "  cp_env.reset()\n",
        "\n",
        "  # compute initial state\n",
        "  prev_observation = agent.observe()\n",
        "  observation = prev_observation\n",
        "\n",
        "  # steps\n",
        "  for t in count():\n",
        "\n",
        "    # choose the action\n",
        "    action = agent.decide(prev_observation)\n",
        "\n",
        "    # perform the action\n",
        "    _, reward, done, info = agent.act(action.item())\n",
        "\n",
        "    # update observations motive\n",
        "    observation = None if done else agent.observe()\n",
        "\n",
        "    # memorize transition\n",
        "    agent.memorize(prev_observation, action, observation, reward)\n",
        "\n",
        "    # update observations\n",
        "    prev_observation = observation\n",
        "\n",
        "    # deduce optimizations\n",
        "    agent.learn()\n",
        "\n",
        "    # finish if done\n",
        "    if done:\n",
        "      print(\"Episode {} with {} steps {}\".format(i + 1, t + 1, \" -> WON\" if t+1 >= 500 else \"\"))\n",
        "      last_scores.append(t+1>=450)\n",
        "      finish_game = np.array(last_scores).all()\n",
        "      break\n",
        "      \n",
        "  if finish_game:\n",
        "    print(\"FINISH - Last five scores over 450. Higher 10%\")\n",
        "    break # finish when last five scores over 450. Higher 10%\n",
        "\n",
        "cp_env.close()"
      ],
      "execution_count": 13,
      "outputs": [
        {
          "output_type": "stream",
          "text": [
            "Episode 1 with 14 steps \n",
            "Episode 2 with 21 steps \n",
            "Episode 3 with 25 steps \n",
            "Episode 4 with 12 steps \n",
            "Episode 5 with 23 steps \n",
            "Episode 6 with 15 steps \n",
            "Episode 7 with 11 steps \n",
            "Episode 8 with 16 steps \n",
            "Episode 9 with 14 steps \n",
            "Episode 10 with 15 steps \n",
            "Episode 11 with 18 steps \n",
            "Episode 12 with 12 steps \n",
            "Episode 13 with 36 steps \n",
            "Episode 14 with 27 steps \n",
            "Episode 15 with 13 steps \n",
            "Episode 16 with 11 steps \n",
            "Episode 17 with 35 steps \n",
            "Episode 18 with 15 steps \n",
            "Episode 19 with 11 steps \n",
            "Episode 20 with 32 steps \n",
            "Episode 21 with 30 steps \n",
            "Episode 22 with 14 steps \n",
            "Episode 23 with 9 steps \n",
            "Episode 24 with 20 steps \n",
            "Episode 25 with 18 steps \n",
            "Episode 26 with 26 steps \n",
            "Episode 27 with 15 steps \n",
            "Episode 28 with 16 steps \n",
            "Episode 29 with 37 steps \n",
            "Episode 30 with 48 steps \n",
            "Episode 31 with 21 steps \n",
            "Episode 32 with 16 steps \n",
            "Episode 33 with 22 steps \n",
            "Episode 34 with 46 steps \n",
            "Episode 35 with 33 steps \n",
            "Episode 36 with 37 steps \n",
            "Episode 37 with 27 steps \n",
            "Episode 38 with 41 steps \n",
            "Episode 39 with 16 steps \n",
            "Episode 40 with 51 steps \n",
            "Episode 41 with 43 steps \n",
            "Episode 42 with 24 steps \n",
            "Episode 43 with 29 steps \n",
            "Episode 44 with 68 steps \n",
            "Episode 45 with 40 steps \n",
            "Episode 46 with 9 steps \n",
            "Episode 47 with 105 steps \n",
            "Episode 48 with 15 steps \n",
            "Episode 49 with 41 steps \n",
            "Episode 50 with 15 steps \n",
            "Episode 51 with 181 steps \n",
            "Episode 52 with 80 steps \n",
            "Episode 53 with 131 steps \n",
            "Episode 54 with 127 steps \n",
            "Episode 55 with 60 steps \n",
            "Episode 56 with 114 steps \n",
            "Episode 57 with 59 steps \n",
            "Episode 58 with 237 steps \n",
            "Episode 59 with 78 steps \n",
            "Episode 60 with 109 steps \n",
            "Episode 61 with 238 steps \n",
            "Episode 62 with 141 steps \n",
            "Episode 63 with 144 steps \n",
            "Episode 64 with 127 steps \n",
            "Episode 65 with 114 steps \n",
            "Episode 66 with 47 steps \n",
            "Episode 67 with 156 steps \n",
            "Episode 68 with 217 steps \n",
            "Episode 69 with 172 steps \n",
            "Episode 70 with 144 steps \n",
            "Episode 71 with 142 steps \n",
            "Episode 72 with 310 steps \n",
            "Episode 73 with 445 steps \n",
            "Episode 74 with 171 steps \n",
            "Episode 75 with 260 steps \n",
            "Episode 76 with 164 steps \n",
            "Episode 77 with 147 steps \n",
            "Episode 78 with 206 steps \n",
            "Episode 79 with 195 steps \n",
            "Episode 80 with 391 steps \n",
            "Episode 81 with 301 steps \n",
            "Episode 82 with 233 steps \n",
            "Episode 83 with 164 steps \n",
            "Episode 84 with 141 steps \n",
            "Episode 85 with 283 steps \n",
            "Episode 86 with 280 steps \n",
            "Episode 87 with 242 steps \n",
            "Episode 88 with 424 steps \n",
            "Episode 89 with 197 steps \n",
            "Episode 90 with 500 steps  -> WON\n",
            "Episode 91 with 278 steps \n",
            "Episode 92 with 147 steps \n",
            "Episode 93 with 217 steps \n",
            "Episode 94 with 258 steps \n",
            "Episode 95 with 199 steps \n",
            "Episode 96 with 303 steps \n",
            "Episode 97 with 53 steps \n",
            "Episode 98 with 426 steps \n",
            "Episode 99 with 190 steps \n",
            "Episode 100 with 500 steps  -> WON\n"
          ],
          "name": "stdout"
        }
      ]
    },
    {
      "cell_type": "markdown",
      "metadata": {
        "id": "c2hQ-7jYoeQi",
        "colab_type": "text"
      },
      "source": [
        "# Results"
      ]
    },
    {
      "cell_type": "markdown",
      "metadata": {
        "id": "P-QASTW8vfP4",
        "colab_type": "text"
      },
      "source": [
        "### Plot stats"
      ]
    },
    {
      "cell_type": "code",
      "metadata": {
        "id": "pJYVZQVIJFZ-",
        "colab_type": "code",
        "colab": {
          "base_uri": "https://localhost:8080/",
          "height": 573
        },
        "outputId": "14987c38-2285-4bbd-c907-68a0316070c6"
      },
      "source": [
        "import json\n",
        "\n",
        "json_files = glob.glob('video/*.json')\n",
        "json_file = list(filter(lambda f: 'stats' in f, json_files))[0] \n",
        "\n",
        "with open(json_file) as f:\n",
        "  data = json.load(f)\n",
        "\n",
        "  plt.plot(data['episode_rewards'])\n",
        "  plt.title('Rewards per episode')\n",
        "  plt.ylabel('rewards')\n",
        "  plt.xlabel('episodes')\n",
        "  plt.show()\n",
        "\n",
        "  plt.plot(data['timestamps'])\n",
        "  plt.title('Timestamps per episode')\n",
        "  plt.ylabel('timestamps')\n",
        "  plt.xlabel('episodes')\n",
        "  plt.show()"
      ],
      "execution_count": 14,
      "outputs": [
        {
          "output_type": "display_data",
          "data": {
            "image/png": "[encoded data removed]",
            "text/plain": [
              "<Figure size 432x288 with 1 Axes>"
            ]
          },
          "metadata": {
            "tags": []
          }
        },
        {
          "output_type": "display_data",
          "data": {
            "image/png": "[encoded data removed]",
            "text/plain": [
              "<Figure size 432x288 with 1 Axes>"
            ]
          },
          "metadata": {
            "tags": []
          }
        }
      ]
    },
    {
      "cell_type": "markdown",
      "metadata": {
        "id": "lu6ZkboqvlO2",
        "colab_type": "text"
      },
      "source": [
        "### Videos"
      ]
    },
    {
      "cell_type": "code",
      "metadata": {
        "id": "eB8kxfG4vnEK",
        "colab_type": "code",
        "colab": {
          "base_uri": "https://localhost:8080/",
          "height": 438
        },
        "outputId": "b84468a6-37a6-48f6-902d-013b9668e654"
      },
      "source": [
        "# show shortest and longest video\n",
        "show_videos([-1]) # indexes ordered by size of video"
      ],
      "execution_count": 15,
      "outputs": [
        {
          "output_type": "stream",
          "text": [
            "Video /openaigym.video.0.54654.video000073 - Episode 73 - Size 41179\n"
          ],
          "name": "stdout"
        },
        {
          "output_type": "display_data",
          "data": {
            "text/html": [
              "<video alt=\"test\" autoplay loop controls style=\"height: 400px;\">\n",
              "                              <source src=\"data:video/mp4;base64,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\" type=\"video/mp4\" />\n",
              "                              </video>"
            ],
            "text/plain": [
              "<IPython.core.display.HTML object>"
            ]
          },
          "metadata": {
            "tags": []
          }
        }
      ]
    }
  ]
}